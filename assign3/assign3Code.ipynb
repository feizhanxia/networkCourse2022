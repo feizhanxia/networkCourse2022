{
 "cells": [
  {
   "cell_type": "code",
   "execution_count": 111,
   "id": "54a1d59f",
   "metadata": {},
   "outputs": [],
   "source": [
    "# import numpy as np\n",
    "# import pandas as pd\n",
    "# from sklearn.ensemble import RandomForestClassifier\n",
    "# from sklearn.metrics import mean_squared_error\n",
    "# from sklearn.ensemble import VotingClassifier\n",
    "# from sklearn.linear_model import LogisticRegression\n",
    "# from sklearn.svm import SVC"
   ]
  },
  {
   "cell_type": "code",
   "execution_count": 112,
   "id": "a69416f2",
   "metadata": {},
   "outputs": [],
   "source": [
    "# dataTrain = pd.read_csv(\"Homework-3-1/Homework-3-1-train_data.csv\",index_col = 0)\n",
    "# dataTest = pd.read_csv(\"Homework-3-1/Homework-3-1-test_data.csv\",index_col = 0)\n",
    "# Train = dataTrain.values\n",
    "# Test = dataTest.values\n",
    "# aver=Train[:,:-1].mean(axis=0)\n",
    "# std=Train[:,:-1].std(axis=0)\n",
    "# xTrain = (Train[:,:-1]-aver)/std\n",
    "# xTest = (Test[:,:-1]-aver)/std\n",
    "# yTrain = Train[:,-1]\n",
    "# yTest = Test[:,-1]\n",
    "# yOneHot = np.zeros((len(yTrain),6))\n",
    "# for i,val in enumerate(yTrain):\n",
    "#     yOneHot[i,int(val-3)] = 1"
   ]
  },
  {
   "cell_type": "code",
   "execution_count": 113,
   "id": "3fc5b410",
   "metadata": {},
   "outputs": [],
   "source": [
    "# rs = 42\n",
    "# log_clf = LogisticRegression(solver = \"lbfgs\", random_state=rs,max_iter = 1000)\n",
    "# rnd_clf = RandomForestClassifier(n_estimators=100, random_state=rs)\n",
    "# svm_clf = SVC(gamma=\"scale\", random_state=rs)\n",
    "# voting_clf = VotingClassifier(estimators=[('rf',rnd_clf),('svc',svm_clf)],\n",
    "#                              voting = 'hard')\n",
    "# voting_clf.fit(xTrain,yTrain)\n",
    "# y_pred = voting_clf.predict(xTest)\n",
    "# len(yTest[voting_clf.predict(xTest)-yTest!=0])/len(yTest)# "
   ]
  },
  {
   "cell_type": "code",
   "execution_count": 114,
   "id": "b1740d86",
   "metadata": {},
   "outputs": [],
   "source": [
    "# len(yTrain[voting_clf.predict(xTrain)-yTrain!=0])/len(yTrain)"
   ]
  },
  {
   "cell_type": "code",
   "execution_count": 115,
   "id": "1c81202b",
   "metadata": {},
   "outputs": [],
   "source": [
    "# rnd_clf = RandomForestClassifier(oob_score=True,n_estimators=100, random_state=rs)\n",
    "\n",
    "# rnd_clf.fit(xTrain,yTrain)\n",
    "# # len(yTest[rnd_clf.predict(xTest)-yTest!=0])/len(yTest)\n",
    "# print(\"accuracy:%f\"%rnd_clf.oob_score_)"
   ]
  },
  {
   "cell_type": "code",
   "execution_count": 116,
   "id": "f46872b2",
   "metadata": {},
   "outputs": [],
   "source": [
    "# from sklearn.ensemble import BaggingClassifier\n",
    "# from sklearn.tree import DecisionTreeClassifier"
   ]
  },
  {
   "cell_type": "code",
   "execution_count": 117,
   "id": "a7dbb6d0",
   "metadata": {},
   "outputs": [],
   "source": [
    "# bag_clf = BaggingClassifier(\n",
    "#     DecisionTreeClassifier(random_state = rs),n_estimators=600,\n",
    "#     max_samples=500,bootstrap=True,random_state=rs)\n",
    "# bag_clf.fit(xTrain,yTrain)\n",
    "# len(yTest[bag_clf.predict(xTest)-yTest!=0])/len(yTest)"
   ]
  },
  {
   "cell_type": "code",
   "execution_count": 118,
   "id": "8c4c331f",
   "metadata": {},
   "outputs": [],
   "source": [
    "# voting_clf = VotingClassifier(estimators=[('rf',rnd_clf),('bg',bag_clf)],\n",
    "#                              voting = 'hard')\n",
    "# voting_clf.fit(xTrain,yTrain)\n",
    "# y_pred = voting_clf.predict(xTest)\n",
    "# len(yTest[voting_clf.predict(xTest)-yTest!=0])/len(yTest)"
   ]
  },
  {
   "cell_type": "markdown",
   "id": "d149e0a0",
   "metadata": {},
   "source": [
    "## Homework 3-1"
   ]
  },
  {
   "cell_type": "code",
   "execution_count": 64,
   "id": "a912ac0c",
   "metadata": {},
   "outputs": [],
   "source": [
    "import numpy as np\n",
    "import pandas as pd\n",
    "from sklearn.ensemble import RandomForestClassifier\n",
    "from sklearn.metrics import mean_squared_error\n",
    "from sklearn.model_selection import GridSearchCV"
   ]
  },
  {
   "cell_type": "markdown",
   "id": "e1e1ffc4",
   "metadata": {},
   "source": [
    "导入数据并归一化处理"
   ]
  },
  {
   "cell_type": "code",
   "execution_count": 121,
   "id": "91929c12",
   "metadata": {},
   "outputs": [],
   "source": [
    "dataTrain = pd.read_csv(\"Homework-3-1/Homework-3-1-train_data.csv\",index_col = 0)\n",
    "dataTest = pd.read_csv(\"Homework-3-1/Homework-3-1-test_data.csv\",index_col = 0)\n",
    "Train = dataTrain.values\n",
    "Test = dataTest.values\n",
    "aver=Train[:,:-1].mean(axis=0)\n",
    "std=Train[:,:-1].std(axis=0)\n",
    "xTrain = (Train[:,:-1]-aver)/std\n",
    "xTest = (Test[:,:-1]-aver)/std\n",
    "yTrain = Train[:,-1]\n",
    "yTest = Test[:,-1]\n",
    "rs = 0"
   ]
  },
  {
   "cell_type": "markdown",
   "id": "6d85af2f",
   "metadata": {},
   "source": [
    "对RandomForestClassifier调节参数"
   ]
  },
  {
   "cell_type": "code",
   "execution_count": 122,
   "id": "bc13deab",
   "metadata": {},
   "outputs": [
    {
     "name": "stdout",
     "output_type": "stream",
     "text": [
      "{'max_features': 15, 'n_estimators': 300}\n",
      "Lowest RMSE:0.764752\n"
     ]
    }
   ],
   "source": [
    "param_grid = {\"n_estimators\":[100,200,300],\"max_features\":range(10,30,5)}\n",
    "gsearch = GridSearchCV(estimator=RandomForestClassifier(oob_score=True,random_state=rs),\n",
    "                       param_grid=param_grid,scoring='neg_root_mean_squared_error',\n",
    "                       cv=3,n_jobs = -1)\n",
    "gsearch.fit(xTrain,yTrain)\n",
    "print(gsearch.best_params_)\n",
    "print(\"Lowest RMSE:%f\" % -gsearch.best_score_)"
   ]
  },
  {
   "cell_type": "markdown",
   "id": "749b3805",
   "metadata": {},
   "source": [
    "用最佳参数训练并预测"
   ]
  },
  {
   "cell_type": "code",
   "execution_count": 148,
   "id": "a57dd7be",
   "metadata": {},
   "outputs": [
    {
     "name": "stdout",
     "output_type": "stream",
     "text": [
      "Prediction RMSE: 0.4439767838698152\n"
     ]
    }
   ],
   "source": [
    "rnd_clf = RandomForestClassifier(oob_score=True,n_estimators=300, \n",
    "                                 random_state=rs,max_features = 15) \n",
    "rnd_clf.fit(xTrain,yTrain)\n",
    "test_pred = rnd_clf.predict(xTest)\n",
    "test_rmse = mean_squared_error(test_pred,yTest)\n",
    "print(\"Prediction RMSE: {}\".format(float(test_rmse**0.5)))"
   ]
  },
  {
   "cell_type": "markdown",
   "id": "cc554460",
   "metadata": {},
   "source": [
    "## Homework 3-2"
   ]
  },
  {
   "cell_type": "code",
   "execution_count": 134,
   "id": "100c76c9",
   "metadata": {},
   "outputs": [],
   "source": [
    "import numpy as np\n",
    "import pandas as pd\n",
    "from sklearn.ensemble import RandomForestClassifier\n",
    "from sklearn.metrics import mean_squared_error\n",
    "from sklearn.model_selection import GridSearchCV\n",
    "from sklearn.metrics import roc_auc_score"
   ]
  },
  {
   "cell_type": "markdown",
   "id": "5d667a3e",
   "metadata": {},
   "source": [
    "导入数据并归一化处理"
   ]
  },
  {
   "cell_type": "code",
   "execution_count": 128,
   "id": "6303b01d",
   "metadata": {},
   "outputs": [],
   "source": [
    "dataTrain = pd.read_csv(\"Homework-3-2/Homework-3-2-train_data.csv\",index_col = 0)\n",
    "dataTest = pd.read_csv(\"Homework-3-2/Homework-3-2-test_data.csv\",index_col = 0)\n",
    "Train = dataTrain.values\n",
    "Test = dataTest.values\n",
    "aver=Train[:,:-1].mean(axis=0)\n",
    "std=Train[:,:-1].std(axis=0)\n",
    "xTrain = (Train[:,:-1]-aver)/std\n",
    "xTest = (Test[:,:-1]-aver)/std\n",
    "yTrain = Train[:,-1]\n",
    "yTest = Test[:,-1]\n",
    "rs = 0"
   ]
  },
  {
   "cell_type": "markdown",
   "id": "84ffa8a3",
   "metadata": {},
   "source": [
    "对RandomForestClassifier调节参数"
   ]
  },
  {
   "cell_type": "code",
   "execution_count": 141,
   "id": "36a99416",
   "metadata": {},
   "outputs": [
    {
     "name": "stdout",
     "output_type": "stream",
     "text": [
      "{'max_features': 2, 'n_estimators': 220}\n",
      "best AUC:0.858329\n"
     ]
    }
   ],
   "source": [
    "param_grid = {\"n_estimators\":[150,210,220,230,250],\"max_features\":range(1,7,1)}\n",
    "gsearch = GridSearchCV(estimator=RandomForestClassifier(oob_score=True,random_state=rs),\n",
    "                       param_grid=param_grid,scoring='roc_auc',\n",
    "                       cv=3,n_jobs = -1)\n",
    "gsearch.fit(xTrain,yTrain)\n",
    "print(gsearch.best_params_)\n",
    "print(\"best AUC:%f\" % gsearch.best_score_)"
   ]
  },
  {
   "cell_type": "markdown",
   "id": "ca357c27",
   "metadata": {},
   "source": [
    "用最佳参数训练并预测"
   ]
  },
  {
   "cell_type": "code",
   "execution_count": 149,
   "id": "cdc1961b",
   "metadata": {},
   "outputs": [
    {
     "name": "stdout",
     "output_type": "stream",
     "text": [
      "Prediction AUC: 0.8079911209766926%\n"
     ]
    }
   ],
   "source": [
    "rnd_clf = RandomForestClassifier(oob_score=True,n_estimators=220, \n",
    "                                 random_state=rs,max_features = 2) \n",
    "rnd_clf.fit(xTrain,yTrain)\n",
    "test_pred = rnd_clf.predict(xTest)\n",
    "test_auc = roc_auc_score(yTest,test_pred)\n",
    "print(\"Prediction AUC: {}%\".format(float(test_auc)))"
   ]
  },
  {
   "cell_type": "code",
   "execution_count": 150,
   "id": "7f3eef1f",
   "metadata": {},
   "outputs": [
    {
     "data": {
      "image/png": "[encoded data removed]",
      "text/plain": [
       "<Figure size 640x480 with 1 Axes>"
      ]
     },
     "metadata": {},
     "output_type": "display_data"
    }
   ],
   "source": [
    "#ROC Curve\n",
    "import matplotlib.pyplot as plt\n",
    "from sklearn import metrics\n",
    "def createROC(y_test, y_pred):\n",
    "    fpr, tpr, thresholds = metrics.roc_curve(y_test, y_pred)\n",
    "    roc_auc = metrics.auc(fpr,tpr)\n",
    "    plt.title('Receiver Operating Characteristic')\n",
    "    plt.plot(fpr, tpr, 'b',label='AUC = %0.2f'% roc_auc)\n",
    "    plt.legend(loc='lower right')\n",
    "    plt.plot([0,1],[0,1],'r--')\n",
    "    plt.xlim([0,1])\n",
    "    plt.ylim([0,1])\n",
    "    plt.ylabel('True Positive Rate')\n",
    "    plt.xlabel('False Positive Rate')\n",
    "    plt.show()\n",
    "\n",
    "\n",
    "createROC(yTest, test_pred)"
   ]
  }
 ],
 "metadata": {
  "kernelspec": {
   "display_name": "Python 3 (ipykernel)",
   "language": "python",
   "name": "python3"
  },
  "language_info": {
   "codemirror_mode": {
    "name": "ipython",
    "version": 3
   },
   "file_extension": ".py",
   "mimetype": "text/x-python",
   "name": "python",
   "nbconvert_exporter": "python",
   "pygments_lexer": "ipython3",
   "version": "3.10.6"
  }
 },
 "nbformat": 4,
 "nbformat_minor": 5
}
