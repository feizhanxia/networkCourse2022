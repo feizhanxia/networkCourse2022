{
 "cells": [
  {
   "cell_type": "code",
   "execution_count": 1,
   "metadata": {
    "collapsed": true
   },
   "outputs": [],
   "source": [
    "import networkx as nx\n",
    "import pandas as pd\n",
    "import numpy as np\n",
    "import matplotlib.pyplot as plt\n",
    "plt.rcParams['font.sans-serif']=['Microsoft YaHei']"
   ]
  },
  {
   "cell_type": "code",
   "execution_count": 2,
   "outputs": [],
   "source": [
    "data = np.genfromtxt(\"Dataset for Homework2-2.txt\",dtype=[int,int])"
   ],
   "metadata": {
    "collapsed": false,
    "pycharm": {
     "name": "#%%\n"
    }
   }
  },
  {
   "cell_type": "code",
   "execution_count": 7,
   "outputs": [],
   "source": [
    "data_frame=pd.DataFrame(data)\n",
    "g1=nx.from_pandas_edgelist(data_frame,\"f0\",\"f1\",create_using=nx.Graph())"
   ],
   "metadata": {
    "collapsed": false,
    "pycharm": {
     "name": "#%%\n"
    }
   }
  },
  {
   "cell_type": "code",
   "execution_count": 10,
   "outputs": [],
   "source": [
    "#绘制不同规模随机网络度分布\n",
    "def get_pdf(g,kmin,kmax):\n",
    "    k=list(range(kmin,kmax+1))\n",
    "    n=len(g.nodes())\n",
    "    pk=[]\n",
    "    for ki in k:\n",
    "        c=0\n",
    "        for i in g.nodes():\n",
    "            if g.degree(i)==ki:\n",
    "                c+=1\n",
    "        pk.append(c/n)\n",
    "    return k,pk"
   ],
   "metadata": {
    "collapsed": false,
    "pycharm": {
     "name": "#%%\n"
    }
   }
  },
  {
   "cell_type": "markdown",
   "source": [
    "#### 平均度k"
   ],
   "metadata": {
    "collapsed": false
   }
  },
  {
   "cell_type": "code",
   "execution_count": 21,
   "outputs": [
    {
     "name": "stdout",
     "output_type": "stream",
     "text": [
      "平均度为： 8.083430596982666\n"
     ]
    }
   ],
   "source": [
    "d=dict(nx.degree(g1))#度分布\n",
    "print(\"平均度为：\",sum(d.values())/len(g1.nodes))"
   ],
   "metadata": {
    "collapsed": false,
    "pycharm": {
     "name": "#%%\n"
    }
   }
  },
  {
   "cell_type": "markdown",
   "source": [
    "#### 网络平均集聚系数"
   ],
   "metadata": {
    "collapsed": false
   }
  },
  {
   "cell_type": "code",
   "execution_count": 39,
   "outputs": [
    {
     "name": "stdout",
     "output_type": "stream",
     "text": [
      "网络平均集聚系数为： 0.6334130270820665\n"
     ]
    }
   ],
   "source": [
    "m=nx.average_clustering(g1)\n",
    "print(\"网络平均集聚系数为：\",m)"
   ],
   "metadata": {
    "collapsed": false,
    "pycharm": {
     "name": "#%%\n"
    }
   }
  },
  {
   "cell_type": "markdown",
   "source": [
    "#### 网络全局集聚系数"
   ],
   "metadata": {
    "collapsed": false
   }
  },
  {
   "cell_type": "code",
   "execution_count": 40,
   "outputs": [
    {
     "name": "stdout",
     "output_type": "stream",
     "text": [
      "网络全局集聚系数为： 0.2643168246385282\n"
     ]
    }
   ],
   "source": [
    "m=nx.transitivity(g1)\n",
    "print(\"网络全局集聚系数为：\",m)"
   ],
   "metadata": {
    "collapsed": false,
    "pycharm": {
     "name": "#%%\n"
    }
   }
  },
  {
   "cell_type": "markdown",
   "source": [
    "#### 网络度分布"
   ],
   "metadata": {
    "collapsed": false
   }
  },
  {
   "cell_type": "code",
   "execution_count": 20,
   "outputs": [
    {
     "data": {
      "text/plain": "<Figure size 720x360 with 1 Axes>",
      "image/png": "[encoded data removed]"
     },
     "metadata": {
      "needs_background": "light"
     },
     "output_type": "display_data"
    }
   ],
   "source": [
    "deg1=[g1.degree(i) for i in g1.nodes()]\n",
    "kmin1,kmax1=min(deg1),max(deg1)\n",
    "k1,pk1=get_pdf(g1,kmin1,kmax1)\n",
    "avk1=sum(deg1)/len(g1.nodes())\n",
    "plt.figure(figsize=(10,5))\n",
    "plt.plot(k1,pk1,\"bv\")\n",
    "plt.xlabel(\"$k$\",fontsize=15)\n",
    "plt.ylabel(\"$p_k$\",fontsize=15)\n",
    "plt.title(\"网络度分布\",fontsize=15)\n",
    "plt.ylim([1e-6,1])\n",
    "plt.semilogy()\n",
    "plt.semilogx()\n",
    "plt.savefig(\"网络度分布.png\")"
   ],
   "metadata": {
    "collapsed": false,
    "pycharm": {
     "name": "#%%\n"
    }
   }
  },
  {
   "cell_type": "markdown",
   "source": [
    "#### 度分布直方图"
   ],
   "metadata": {
    "collapsed": false
   }
  },
  {
   "cell_type": "code",
   "execution_count": 52,
   "outputs": [
    {
     "data": {
      "text/plain": "<Figure size 720x360 with 1 Axes>",
      "image/png": "[encoded data removed]"
     },
     "metadata": {
      "needs_background": "light"
     },
     "output_type": "display_data"
    },
    {
     "data": {
      "text/plain": "<Figure size 432x288 with 0 Axes>"
     },
     "metadata": {},
     "output_type": "display_data"
    }
   ],
   "source": [
    "x=list(range(max(d.values())+1))#绘制直方图学习\n",
    "y=[i/len(g1.nodes) for i in nx.degree_histogram(g1)]\n",
    "plt.figure(figsize=(10,5))\n",
    "plt.bar(x,y,width=0.5)\n",
    "plt.xlabel(\"$k$\",fontsize=15)\n",
    "plt.ylabel(\"$p_k$\",fontsize=15)\n",
    "plt.semilogx()\n",
    "plt.title(\"度分布直方图\",fontsize=15)\n",
    "plt.show()\n",
    "plt.savefig(\"度分布直方图.png\")"
   ],
   "metadata": {
    "collapsed": false,
    "pycharm": {
     "name": "#%%\n"
    }
   }
  },
  {
   "cell_type": "markdown",
   "source": [
    " #### 基于pearson相关系数的度度相关性"
   ],
   "metadata": {
    "collapsed": false
   }
  },
  {
   "cell_type": "code",
   "execution_count": 43,
   "outputs": [
    {
     "name": "stdout",
     "output_type": "stream",
     "text": [
      "度度相关性系数为： 0.13506886900042706\n"
     ]
    }
   ],
   "source": [
    "r1=nx.degree_pearson_correlation_coefficient(g1)\n",
    "print(\"度度相关性系数为：\",r1)#正关联"
   ],
   "metadata": {
    "collapsed": false,
    "pycharm": {
     "name": "#%%\n"
    }
   }
  },
  {
   "cell_type": "markdown",
   "source": [
    "#### 求网络最近邻平均度值 绘制度度相关性图"
   ],
   "metadata": {
    "collapsed": false
   }
  },
  {
   "cell_type": "code",
   "execution_count": 45,
   "outputs": [],
   "source": [
    "def average_nearest_neighbor_degree(G):\n",
    "    k=set([G.degree(i) for i in G.nodes()])\n",
    "    sorted_k=sorted(k)\n",
    "    k_nn_k=[]\n",
    "    for ki in sorted_k:\n",
    "        c=0\n",
    "        k_nn_i=0\n",
    "        for i in G.nodes():\n",
    "            if G.degree(i)==ki:\n",
    "                k_nn_i+=sum([G.degree(j) for j in list(nx.all_neighbors(G,i))])/ki\n",
    "                c+=1\n",
    "        k_nn_k.append(k_nn_i/c)\n",
    "    return  sorted_k,k_nn_k"
   ],
   "metadata": {
    "collapsed": false,
    "pycharm": {
     "name": "#%%\n"
    }
   }
  },
  {
   "cell_type": "code",
   "execution_count": 51,
   "outputs": [
    {
     "data": {
      "text/plain": "<Figure size 720x360 with 1 Axes>",
      "image/png": "[encoded data removed]"
     },
     "metadata": {
      "needs_background": "light"
     },
     "output_type": "display_data"
    }
   ],
   "source": [
    "x1,y1=average_nearest_neighbor_degree(g1)\n",
    "plt.figure(figsize=(10,5))\n",
    "plt.plot(x1,y1,\"bv\")\n",
    "plt.xlabel(\"$p$\",fontsize=15)\n",
    "plt.ylabel(\"$k_{nn}<k>$\",fontsize=15)\n",
    "plt.title(\"网络最近邻平均度\",fontsize=15)\n",
    "plt.xscale(\"log\")\n",
    "plt.yscale(\"log\")\n",
    "plt.ylim([1,100])\n",
    "plt.savefig(\"网络最近邻平均度.png\")"
   ],
   "metadata": {
    "collapsed": false,
    "pycharm": {
     "name": "#%%\n"
    }
   }
  },
  {
   "cell_type": "markdown",
   "source": [
    "#### 集聚系数绘制"
   ],
   "metadata": {
    "collapsed": false
   }
  },
  {
   "cell_type": "code",
   "execution_count": 71,
   "outputs": [],
   "source": [
    "def C_vs_k(g):\n",
    "    klist=[g.degree(i) for i in g.nodes()]\n",
    "    all_c={i:nx.clustering(g1,i) for i in g.nodes()}\n",
    "    all_k=list(set(klist))\n",
    "    c_k={}\n",
    "    for k in sorted(all_k):\n",
    "        s=0\n",
    "        j=0\n",
    "        for i in g.nodes():\n",
    "            if g.degree(i)==k:\n",
    "                j=j+1\n",
    "                s=s+all_c[i]\n",
    "        avc_k=s/j\n",
    "        c_k[k]=avc_k\n",
    "    return c_k"
   ],
   "metadata": {
    "collapsed": false,
    "pycharm": {
     "name": "#%%\n"
    }
   }
  },
  {
   "cell_type": "code",
   "execution_count": 75,
   "outputs": [
    {
     "data": {
      "text/plain": "<Figure size 720x360 with 1 Axes>",
      "image/png": "[encoded data removed]"
     },
     "metadata": {
      "needs_background": "light"
     },
     "output_type": "display_data"
    }
   ],
   "source": [
    "c_k=C_vs_k(g1)\n",
    "avc=nx.average_clustering(g1)\n",
    "x=np.linspace(1,1000,1000)\n",
    "y=[avc]*1000\n",
    "plt.figure(figsize=(10,5))\n",
    "plt.title(\"节点的集聚系数\",fontsize=15)\n",
    "plt.plot(c_k.keys(),c_k.values(),\"bv\",label=\"集聚系数\")\n",
    "plt.plot(x,y,\"b-\",label=\"平均集聚系数\")\n",
    "plt.semilogx()\n",
    "plt.semilogy()\n",
    "plt.legend(loc=\"best\")\n",
    "plt.xlabel(\"$k$\",fontsize=15)\n",
    "plt.ylabel(\"$C<K>$\",fontsize=15)\n",
    "plt.xlim([1,1e3])\n",
    "plt.savefig(\"节点的集聚系数.png\")"
   ],
   "metadata": {
    "collapsed": false,
    "pycharm": {
     "name": "#%%\n"
    }
   }
  },
  {
   "cell_type": "markdown",
   "source": [
    "#### 网络中心性指标"
   ],
   "metadata": {
    "collapsed": false
   }
  },
  {
   "cell_type": "code",
   "execution_count": 70,
   "outputs": [],
   "source": [
    "#度中心性\n",
    "dc1=nx.degree_centrality(g1)\n",
    "#特征向量中心性\n",
    "ec1=nx.eigenvector_centrality(g1)"
   ],
   "metadata": {
    "collapsed": false,
    "pycharm": {
     "name": "#%%\n"
    }
   }
  },
  {
   "cell_type": "code",
   "execution_count": 69,
   "outputs": [
    {
     "data": {
      "text/plain": "<Figure size 720x360 with 2 Axes>",
      "image/png": "[encoded data removed]"
     },
     "metadata": {
      "needs_background": "light"
     },
     "output_type": "display_data"
    },
    {
     "data": {
      "text/plain": "<Figure size 432x288 with 0 Axes>"
     },
     "metadata": {},
     "output_type": "display_data"
    }
   ],
   "source": [
    "plt.figure(figsize=(10,5))\n",
    "plt.subplot(121)\n",
    "plt.semilogx()\n",
    "plt.scatter(dc1.keys(),dc1.values(),label=\"度中心性\")\n",
    "plt.legend()\n",
    "plt.subplot(122)\n",
    "plt.semilogx()\n",
    "plt.scatter(ec1.keys(),ec1.values(),label=\"特征向量中心性\")\n",
    "plt.legend()\n",
    "plt.suptitle(\"网络中心性指标\",fontsize=15)\n",
    "plt.show()\n",
    "plt.savefig(\"网络中心性指标.png\")"
   ],
   "metadata": {
    "collapsed": false,
    "pycharm": {
     "name": "#%%\n"
    }
   }
  },
  {
   "cell_type": "code",
   "execution_count": null,
   "outputs": [],
   "source": [],
   "metadata": {
    "collapsed": false,
    "pycharm": {
     "name": "#%%\n"
    }
   }
  }
 ],
 "metadata": {
  "kernelspec": {
   "display_name": "Python 3",
   "language": "python",
   "name": "python3"
  },
  "language_info": {
   "codemirror_mode": {
    "name": "ipython",
    "version": 2
   },
   "file_extension": ".py",
   "mimetype": "text/x-python",
   "name": "python",
   "nbconvert_exporter": "python",
   "pygments_lexer": "ipython2",
   "version": "2.7.6"
  }
 },
 "nbformat": 4,
 "nbformat_minor": 0
}